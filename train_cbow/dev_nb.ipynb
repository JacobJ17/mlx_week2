{
 "cells": [
  {
   "cell_type": "code",
   "execution_count": 75,
   "id": "1a5c91c2",
   "metadata": {},
   "outputs": [],
   "source": [
    "import requests\n",
    "from datasets import load_dataset, get_dataset_split_names\n",
    "import collections\n",
    "import re"
   ]
  },
  {
   "cell_type": "code",
   "execution_count": 6,
   "id": "379d4b0d",
   "metadata": {},
   "outputs": [
    {
     "data": {
      "application/vnd.jupyter.widget-view+json": {
       "model_id": "99260f44cc43414ab73b3e48476a6c2f",
       "version_major": 2,
       "version_minor": 0
      },
      "text/plain": [
       "Generating validation split:   0%|          | 0/10047 [00:00<?, ? examples/s]"
      ]
     },
     "metadata": {},
     "output_type": "display_data"
    },
    {
     "data": {
      "application/vnd.jupyter.widget-view+json": {
       "model_id": "8125109c36e24be0a3d2c4c5dceb7f5b",
       "version_major": 2,
       "version_minor": 0
      },
      "text/plain": [
       "Generating train split:   0%|          | 0/82326 [00:00<?, ? examples/s]"
      ]
     },
     "metadata": {},
     "output_type": "display_data"
    },
    {
     "data": {
      "application/vnd.jupyter.widget-view+json": {
       "model_id": "d54a34768734438386a06a5a232b9dfe",
       "version_major": 2,
       "version_minor": 0
      },
      "text/plain": [
       "Generating test split:   0%|          | 0/9650 [00:00<?, ? examples/s]"
      ]
     },
     "metadata": {},
     "output_type": "display_data"
    }
   ],
   "source": [
    "dataset = load_dataset(\"microsoft/ms_marco\", \"v1.1\", cache_dir=\"data/marco\")"
   ]
  },
  {
   "cell_type": "code",
   "execution_count": 62,
   "id": "66e3096b",
   "metadata": {},
   "outputs": [],
   "source": [
    "train_data = dataset['train']"
   ]
  },
  {
   "cell_type": "code",
   "execution_count": 68,
   "id": "701dc2cb",
   "metadata": {},
   "outputs": [
    {
     "data": {
      "text/plain": [
       "{'answers': ['Yes'],\n",
       " 'passages': {'is_selected': [0, 1, 0, 0, 0, 0, 0],\n",
       "  'passage_text': ['In his younger years, Ronald Reagan was a member of the Democratic Party and campaigned for Democratic candidates; however, his views grew more conservative over time, and in the early 1960s he officially became a Republican. In November 1984, Ronald Reagan was reelected in a landslide, defeating Walter Mondale and his running mate Geraldine Ferraro (1935-), the first female vice-presidential candidate from a major U.S. political party.',\n",
       "   \"From Wikipedia, the free encyclopedia. A Reagan Democrat is a traditionally Democratic voter in the United States, especially a white working-class Northerner, who defected from their party to support Republican President Ronald Reagan in either or both the 1980 and 1984 elections. During the 1980 election a dramatic number of voters in the U.S., disillusioned with the economic 'malaise' of the 1970s and the presidency of Jimmy Carter (even more than, four years earlier, Liberal Republican Gerald Ford), supported former California governor (and former Democrat) Ronald Reagan.\",\n",
       "   'Ronald Reagan began his political life in the Democratic Party, but as he became more and more conservative, he ultimately changed to the Republican Party in the early 1960s. Yes, he switched parties in 1962. He said that he did not desert the Democrats but rather they deserted him. Yes, Ronald Reagan was a member of the Democratic Party until he s … witched to the Republican Party in 1962, at the age of 51. 8 people found this useful.',\n",
       "   'Ronald Wilson Reagan (/ˈrɒnəld ˈwɪlsən ˈreɪɡən/ ; February 6, 1911 – June 5, 2004) was an American politician, commentator, and actor, who served as the 40th President of the United States from 1981 to 1989. I think Ronald Reagan changed the trajectory of America in a way that Richard Nixon did not and in a way that Bill Clinton did not. He put us on a fundamentally different path because the country was ready for it.',\n",
       "   \"When Reagan was a 'liberal Democrat'. In 1948, a very different sounding Ronald Reagan campaigned on the radio for Democrat Harry Truman. Listen to the old audio recording. ... more Duration: {{video.duration.momentjs}}. \",\n",
       "   'Ronald Reagan (1911-2004), a former actor and California governor, served as the 40th U.S. president from 1981 to 1989. Raised in small-town Illinois, he became a Hollywood actor in his 20s and later served as the Republican governor of California from 1967 to 1975. In November 1984, Ronald Reagan was reelected in a landslide, defeating Walter Mondale and his running mate Geraldine Ferraro (1935-), the first female vice-presidential candidate from a major U.S. political party.',\n",
       "   '1984 Re-Election. In November 1984, Ronald Reagan was re-elected in a landslide, defeating Democratic challenger Walter Mondale. Reagan carried 49 of the 50 U.S. states in the election, and received 525 of 538 electoral votes—the largest number ever won by an American presidential candidate. '],\n",
       "  'url': ['http://www.history.com/topics/us-presidents/ronald-reagan',\n",
       "   'https://en.wikipedia.org/wiki/Reagan_Democrat',\n",
       "   'http://www.answers.com/Q/Was_Ronald_Reagan_a_republican_or_a_democrat',\n",
       "   'https://en.wikipedia.org/wiki/Ronald_Reagan',\n",
       "   'http://www.msnbc.com/the-last-word/watch/when-reagan-was-a-liberal-democrat-219696195576',\n",
       "   'http://www.history.com/topics/us-presidents/ronald-reagan',\n",
       "   'http://www.biography.com/people/ronald-reagan-9453198']},\n",
       " 'query': 'was ronald reagan a democrat',\n",
       " 'query_id': 19700,\n",
       " 'query_type': 'description',\n",
       " 'wellFormedAnswers': []}"
      ]
     },
     "execution_count": 68,
     "metadata": {},
     "output_type": "execute_result"
    }
   ],
   "source": [
    "train_data[1]"
   ]
  },
  {
   "cell_type": "code",
   "execution_count": null,
   "id": "381867ad",
   "metadata": {},
   "outputs": [
    {
     "data": {
      "text/plain": [
       "'what animal is a possum? Foxes, cats and birds. A possum (plural form: possums) is any of about 70 small-to medium-sized arboreal marsupial species native to Australia, New Guinea, and Sulawesi (and introduced to New Zealand and China).'"
      ]
     },
     "execution_count": 57,
     "metadata": {},
     "output_type": "execute_result"
    }
   ],
   "source": [
    "idx = 42\n",
    "\n",
    "query = train_data[idx].get(\"query\", \"\")\n",
    "answers = train_data[idx].get(\"answers\", [])\n",
    "\n",
    "full_text = query + \"? \" + \" \".join(answers)\n",
    "full_text"
   ]
  },
  {
   "cell_type": "code",
   "execution_count": 84,
   "id": "f827ae44",
   "metadata": {},
   "outputs": [],
   "source": [
    "corpus = []\n",
    "for sample in train_data.select(range(30)):\n",
    "    query = sample.get(\"query\", \"\")\n",
    "    answers = sample.get(\"answers\", [])\n",
    "    full_text = query + \" \" + \" \".join(answers)\n",
    "    corpus.append(full_text.strip())"
   ]
  },
  {
   "cell_type": "code",
   "execution_count": 86,
   "id": "43a18b37",
   "metadata": {},
   "outputs": [],
   "source": [
    "def preprocess(text: str) -> list[str]:\n",
    "    if not isinstance(text, str):\n",
    "        return \"\"\n",
    "    \n",
    "    # Normalise some symbols\n",
    "    text = text.lower()\n",
    "    text = re.sub(r\"&\", \"and\", text)\n",
    "    text = re.sub(r\"%\", \"percent\", text)\n",
    "\n",
    "    # Replace specific punctuation with tokens\n",
    "    text = text.replace(\"<\", \"\").replace(\">\", \"\") # do this here so that </> can be included in tokens.\n",
    "    # text = text.replace(\"-\", \" \")\n",
    "    text = text.replace(\"-\", ' <HYPHEN> ')\n",
    "    text = text.replace('.',  ' <PERIOD> ')\n",
    "    text = text.replace(',',  ' <COMMA> ')\n",
    "    text = text.replace(';',  ' <SEMICOLON> ')\n",
    "    text = text.replace('!',  ' <EXCLAMATION_MARK> ')\n",
    "    text = text.replace('?',  ' <QUESTION_MARK> ')\n",
    "\n",
    "    # Remove any other punctuation.\n",
    "    text = re.sub(r'[^\\w\\s<>]', '', text)\n",
    "    words = text.split()\n",
    "    stats = collections.Counter(words)\n",
    "    words = [word for word in words if stats[word] > 0]\n",
    "    return words\n",
    "\n",
    "def process_and_concat(strings, delimiter=\"<DELIMIT>\"):\n",
    "    return f\" {delimiter} \".join(\" \".join(preprocess(s)) for s in strings)"
   ]
  },
  {
   "cell_type": "code",
   "execution_count": 87,
   "id": "a60b9b55",
   "metadata": {},
   "outputs": [
    {
     "data": {
      "text/plain": [
       "['what',\n",
       " 'is',\n",
       " 'rba',\n",
       " 'results',\n",
       " '<HYPHEN>',\n",
       " 'based',\n",
       " 'accountability',\n",
       " 'is',\n",
       " 'a',\n",
       " 'disciplined',\n",
       " 'way',\n",
       " 'of',\n",
       " 'thinking',\n",
       " 'and',\n",
       " 'taking',\n",
       " 'action',\n",
       " 'that',\n",
       " 'communities',\n",
       " 'can',\n",
       " 'use',\n",
       " 'to',\n",
       " 'improve',\n",
       " 'the',\n",
       " 'lives',\n",
       " 'of',\n",
       " 'children',\n",
       " '<COMMA>',\n",
       " 'youth',\n",
       " '<COMMA>',\n",
       " 'families',\n",
       " '<COMMA>',\n",
       " 'adults',\n",
       " 'and',\n",
       " 'the',\n",
       " 'community',\n",
       " 'as',\n",
       " 'a',\n",
       " 'whole',\n",
       " '<PERIOD>']"
      ]
     },
     "execution_count": 87,
     "metadata": {},
     "output_type": "execute_result"
    }
   ],
   "source": [
    "preprocess(corpus[0])"
   ]
  },
  {
   "cell_type": "code",
   "execution_count": null,
   "id": "6efec430",
   "metadata": {},
   "outputs": [],
   "source": [
    "corpus = process_and_concat(corpus)\n",
    "corpus"
   ]
  }
 ],
 "metadata": {
  "kernelspec": {
   "display_name": ".venv",
   "language": "python",
   "name": "python3"
  },
  "language_info": {
   "codemirror_mode": {
    "name": "ipython",
    "version": 3
   },
   "file_extension": ".py",
   "mimetype": "text/x-python",
   "name": "python",
   "nbconvert_exporter": "python",
   "pygments_lexer": "ipython3",
   "version": "3.10.17"
  }
 },
 "nbformat": 4,
 "nbformat_minor": 5
}
